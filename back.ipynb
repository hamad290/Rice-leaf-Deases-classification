{
 "cells": [
  {
   "cell_type": "code",
   "execution_count": 1,
   "metadata": {},
   "outputs": [],
   "source": [
    "from PIL import Image\n",
    "import glob\n"
   ]
  },
  {
   "cell_type": "code",
   "execution_count": 2,
   "metadata": {},
   "outputs": [],
   "source": [
    "files = glob.glob('D://vgg19/project/archive/LabelledRice/Resized/*/*')"
   ]
  },
  {
   "cell_type": "code",
   "execution_count": 9,
   "metadata": {},
   "outputs": [],
   "source": [
    "\n",
    "#files = glob.glob('D://vgg19/project/archive/LabelledRice/Resized/*/*')"
   ]
  },
  {
   "cell_type": "code",
   "execution_count": 3,
   "metadata": {},
   "outputs": [],
   "source": [
    "#files_reshape = list(map(lambda x: x.replace('/Labelled\\\\', '/Resized\\\\'), files))"
   ]
  },
  {
   "cell_type": "code",
   "execution_count": 3,
   "metadata": {},
   "outputs": [
    {
     "ename": "NameError",
     "evalue": "name 'files_reshape' is not defined",
     "output_type": "error",
     "traceback": [
      "\u001b[1;31m---------------------------------------------------------------------------\u001b[0m",
      "\u001b[1;31mNameError\u001b[0m                                 Traceback (most recent call last)",
      "Cell \u001b[1;32mIn[3], line 3\u001b[0m\n\u001b[0;32m      1\u001b[0m basewidth \u001b[38;5;241m=\u001b[39m \u001b[38;5;241m300\u001b[39m\n\u001b[1;32m----> 3\u001b[0m \u001b[38;5;28;01mfor\u001b[39;00m file, file_save \u001b[38;5;129;01min\u001b[39;00m \u001b[38;5;28mzip\u001b[39m(files, \u001b[43mfiles_reshape\u001b[49m):\n\u001b[0;32m      4\u001b[0m     img \u001b[38;5;241m=\u001b[39m Image\u001b[38;5;241m.\u001b[39mopen(file)\n\u001b[0;32m      5\u001b[0m     wpercent \u001b[38;5;241m=\u001b[39m basewidth \u001b[38;5;241m/\u001b[39m \u001b[38;5;28mfloat\u001b[39m(img\u001b[38;5;241m.\u001b[39msize[\u001b[38;5;241m0\u001b[39m])\n",
      "\u001b[1;31mNameError\u001b[0m: name 'files_reshape' is not defined"
     ]
    }
   ],
   "source": [
    "basewidth = 300\n",
    "\n",
    "for file, file_save in zip(files, files_reshape):\n",
    "    img = Image.open(file)\n",
    "    wpercent = basewidth / float(img.size[0])\n",
    "    hsize = int(float(img.size[1]) * float(wpercent))\n",
    "    img = img.resize((basewidth, hsize), Image.LANCZOS)\n",
    "    img.save(file_save)"
   ]
  },
  {
   "cell_type": "code",
   "execution_count": 4,
   "metadata": {},
   "outputs": [],
   "source": [
    "from skimage.morphology import binary_closing, binary_opening, erosion"
   ]
  },
  {
   "cell_type": "code",
   "execution_count": 5,
   "metadata": {},
   "outputs": [],
   "source": [
    "files_bgremoved = list(map(lambda x: x.replace('/Resized\\\\', '/backgroundremove\\\\'), files))"
   ]
  },
  {
   "cell_type": "code",
   "execution_count": 6,
   "metadata": {},
   "outputs": [],
   "source": [
    "import numpy as np"
   ]
  },
  {
   "cell_type": "code",
   "execution_count": 8,
   "metadata": {},
   "outputs": [],
   "source": [
    "selem = np.zeros((25, 25))\n",
    "\n",
    "ci,cj=12, 12\n",
    "cr=13\n",
    "\n",
    "# Create index arrays to z\n",
    "I,J=np.meshgrid(np.arange(selem.shape[0]),np.arange(selem.shape[1]))\n",
    "\n",
    "# calculate distance of all points to centre\n",
    "dist=np.sqrt((I-ci)**2+(J-cj)**2)\n",
    "\n",
    "# Assign value of 1 to those points where dist<cr:\n",
    "selem[np.where(dist<=cr)]=1"
   ]
  },
  {
   "cell_type": "code",
   "execution_count": 9,
   "metadata": {},
   "outputs": [],
   "source": [
    "%matplotlib inline\n",
    "import numpy as np\n",
    "from scipy import ndimage\n",
    "\n",
    "# fig, ax = plt.subplots(20,2, figsize=(10,80))\n",
    "idx = 0\n",
    "for file, file_save in zip(files, files_bgremoved):\n",
    "    bg_frac = 0\n",
    "    thres = 220\n",
    "    img = Image.open(file)\n",
    "    im_arr = np.array(img)\n",
    "#     ax[idx, 0].imshow(im_arr)\n",
    "    R = im_arr[:, :, 0]\n",
    "    G = im_arr[:, :, 1]\n",
    "    B = im_arr[:, :, 2]\n",
    "    while bg_frac < 0.6:\n",
    "        bg_mask = ((R>thres) | (B>thres))# & (G < 100)\n",
    "        bg_frac = bg_mask.sum()/len(bg_mask.flatten())\n",
    "        thres -= 5\n",
    "    # we use opening first since our mask is reversed (the foreground and background are reversed here)\n",
    "    bg_mask = binary_closing(erosion(binary_opening(bg_mask, selem), np.ones((3, 3))), np.ones((5,5)))\n",
    "\n",
    "    #Get biggest blob\n",
    "    label, num_label = ndimage.label(~bg_mask)\n",
    "    size = np.bincount(label.ravel())\n",
    "    biggest_label = size[1:].argmax() + 1\n",
    "    bg_mask = label == biggest_label\n",
    "\n",
    "    im_arr[~bg_mask, 0] = 255\n",
    "    im_arr[~bg_mask, 1] = 255\n",
    "    im_arr[~bg_mask, 2] = 255\n",
    "\n",
    "    img = Image.fromarray(im_arr)\n",
    "    img.save(file_save)\n",
    "    idx+=1"
   ]
  },
  {
   "cell_type": "code",
   "execution_count": 10,
   "metadata": {},
   "outputs": [
    {
     "data": {
      "text/plain": [
       "(array([ 3705.,  1766.,   529.,   401.,  1524.,  7034.,  5053., 16875.,\n",
       "          554., 52259.]),\n",
       " array([  0. ,  25.5,  51. ,  76.5, 102. , 127.5, 153. , 178.5, 204. ,\n",
       "        229.5, 255. ]),\n",
       " <BarContainer object of 10 artists>)"
      ]
     },
     "execution_count": 10,
     "metadata": {},
     "output_type": "execute_result"
    },
    {
     "data": {
      "image/png": "[encoded data removed]",
      "text/plain": [
       "<Figure size 640x480 with 1 Axes>"
      ]
     },
     "metadata": {},
     "output_type": "display_data"
    }
   ],
   "source": [
    "%matplotlib inline\n",
    "import matplotlib.pyplot as plt\n",
    "plt.hist(R.flatten(), alpha=0.5)\n",
    "plt.hist(G.flatten(), alpha=0.5)\n",
    "plt.hist(B.flatten(), alpha=0.5)"
   ]
  },
  {
   "cell_type": "code",
   "execution_count": 2,
   "metadata": {},
   "outputs": [
    {
     "ename": "KeyboardInterrupt",
     "evalue": "",
     "output_type": "error",
     "traceback": [
      "\u001b[1;31m---------------------------------------------------------------------------\u001b[0m",
      "\u001b[1;31mKeyboardInterrupt\u001b[0m                         Traceback (most recent call last)",
      "Cell \u001b[1;32mIn[2], line 68\u001b[0m\n\u001b[0;32m     66\u001b[0m file_name \u001b[38;5;241m=\u001b[39m os\u001b[38;5;241m.\u001b[39mpath\u001b[38;5;241m.\u001b[39mbasename(file)\n\u001b[0;32m     67\u001b[0m save_path \u001b[38;5;241m=\u001b[39m os\u001b[38;5;241m.\u001b[39mpath\u001b[38;5;241m.\u001b[39mjoin(output_path, file_name)\n\u001b[1;32m---> 68\u001b[0m \u001b[43mremove_background\u001b[49m\u001b[43m(\u001b[49m\u001b[43mfile\u001b[49m\u001b[43m,\u001b[49m\u001b[43m \u001b[49m\u001b[43msave_path\u001b[49m\u001b[43m)\u001b[49m\n",
      "Cell \u001b[1;32mIn[2], line 39\u001b[0m, in \u001b[0;36mremove_background\u001b[1;34m(file, save_path)\u001b[0m\n\u001b[0;32m     36\u001b[0m     bg_frac \u001b[38;5;241m=\u001b[39m bg_mask\u001b[38;5;241m.\u001b[39msum() \u001b[38;5;241m/\u001b[39m \u001b[38;5;28mlen\u001b[39m(bg_mask\u001b[38;5;241m.\u001b[39mflatten())\n\u001b[0;32m     37\u001b[0m     thres \u001b[38;5;241m-\u001b[39m\u001b[38;5;241m=\u001b[39m \u001b[38;5;241m5\u001b[39m\n\u001b[1;32m---> 39\u001b[0m bg_mask \u001b[38;5;241m=\u001b[39m binary_closing(erosion(\u001b[43mbinary_opening\u001b[49m\u001b[43m(\u001b[49m\u001b[43mbg_mask\u001b[49m\u001b[43m,\u001b[49m\u001b[43m \u001b[49m\u001b[43mselem\u001b[49m\u001b[43m)\u001b[49m, np\u001b[38;5;241m.\u001b[39mones((\u001b[38;5;241m3\u001b[39m, \u001b[38;5;241m3\u001b[39m))), np\u001b[38;5;241m.\u001b[39mones((\u001b[38;5;241m5\u001b[39m, \u001b[38;5;241m5\u001b[39m)))\n\u001b[0;32m     41\u001b[0m \u001b[38;5;66;03m# Get biggest blob\u001b[39;00m\n\u001b[0;32m     42\u001b[0m label, num_label \u001b[38;5;241m=\u001b[39m ndimage\u001b[38;5;241m.\u001b[39mlabel(\u001b[38;5;241m~\u001b[39mbg_mask)\n",
      "File \u001b[1;32mc:\\Users\\hamad.DESKTOP-PLVLOIL\\AppData\\Local\\Programs\\Python\\Python312\\Lib\\site-packages\\skimage\\morphology\\misc.py:38\u001b[0m, in \u001b[0;36mdefault_footprint.<locals>.func_out\u001b[1;34m(image, footprint, *args, **kwargs)\u001b[0m\n\u001b[0;32m     36\u001b[0m \u001b[38;5;28;01mif\u001b[39;00m footprint \u001b[38;5;129;01mis\u001b[39;00m \u001b[38;5;28;01mNone\u001b[39;00m:\n\u001b[0;32m     37\u001b[0m     footprint \u001b[38;5;241m=\u001b[39m ndi\u001b[38;5;241m.\u001b[39mgenerate_binary_structure(image\u001b[38;5;241m.\u001b[39mndim, \u001b[38;5;241m1\u001b[39m)\n\u001b[1;32m---> 38\u001b[0m \u001b[38;5;28;01mreturn\u001b[39;00m \u001b[43mfunc\u001b[49m\u001b[43m(\u001b[49m\u001b[43mimage\u001b[49m\u001b[43m,\u001b[49m\u001b[43m \u001b[49m\u001b[43mfootprint\u001b[49m\u001b[38;5;241;43m=\u001b[39;49m\u001b[43mfootprint\u001b[49m\u001b[43m,\u001b[49m\u001b[43m \u001b[49m\u001b[38;5;241;43m*\u001b[39;49m\u001b[43margs\u001b[49m\u001b[43m,\u001b[49m\u001b[43m \u001b[49m\u001b[38;5;241;43m*\u001b[39;49m\u001b[38;5;241;43m*\u001b[39;49m\u001b[43mkwargs\u001b[49m\u001b[43m)\u001b[49m\n",
      "File \u001b[1;32mc:\\Users\\hamad.DESKTOP-PLVLOIL\\AppData\\Local\\Programs\\Python\\Python312\\Lib\\site-packages\\skimage\\morphology\\binary.py:196\u001b[0m, in \u001b[0;36mbinary_opening\u001b[1;34m(image, footprint, out)\u001b[0m\n\u001b[0;32m    150\u001b[0m \u001b[38;5;250m\u001b[39m\u001b[38;5;124;03m\"\"\"Return fast binary morphological opening of an image.\u001b[39;00m\n\u001b[0;32m    151\u001b[0m \n\u001b[0;32m    152\u001b[0m \u001b[38;5;124;03mThis function returns the same result as grayscale opening but performs\u001b[39;00m\n\u001b[1;32m   (...)\u001b[0m\n\u001b[0;32m    193\u001b[0m \n\u001b[0;32m    194\u001b[0m \u001b[38;5;124;03m\"\"\"\u001b[39;00m\n\u001b[0;32m    195\u001b[0m eroded \u001b[38;5;241m=\u001b[39m binary_erosion(image, footprint)\n\u001b[1;32m--> 196\u001b[0m out \u001b[38;5;241m=\u001b[39m \u001b[43mbinary_dilation\u001b[49m\u001b[43m(\u001b[49m\u001b[43meroded\u001b[49m\u001b[43m,\u001b[49m\u001b[43m \u001b[49m\u001b[43mfootprint\u001b[49m\u001b[43m,\u001b[49m\u001b[43m \u001b[49m\u001b[43mout\u001b[49m\u001b[38;5;241;43m=\u001b[39;49m\u001b[43mout\u001b[49m\u001b[43m)\u001b[49m\n\u001b[0;32m    197\u001b[0m \u001b[38;5;28;01mreturn\u001b[39;00m out\n",
      "File \u001b[1;32mc:\\Users\\hamad.DESKTOP-PLVLOIL\\AppData\\Local\\Programs\\Python\\Python312\\Lib\\site-packages\\skimage\\morphology\\misc.py:38\u001b[0m, in \u001b[0;36mdefault_footprint.<locals>.func_out\u001b[1;34m(image, footprint, *args, **kwargs)\u001b[0m\n\u001b[0;32m     36\u001b[0m \u001b[38;5;28;01mif\u001b[39;00m footprint \u001b[38;5;129;01mis\u001b[39;00m \u001b[38;5;28;01mNone\u001b[39;00m:\n\u001b[0;32m     37\u001b[0m     footprint \u001b[38;5;241m=\u001b[39m ndi\u001b[38;5;241m.\u001b[39mgenerate_binary_structure(image\u001b[38;5;241m.\u001b[39mndim, \u001b[38;5;241m1\u001b[39m)\n\u001b[1;32m---> 38\u001b[0m \u001b[38;5;28;01mreturn\u001b[39;00m \u001b[43mfunc\u001b[49m\u001b[43m(\u001b[49m\u001b[43mimage\u001b[49m\u001b[43m,\u001b[49m\u001b[43m \u001b[49m\u001b[43mfootprint\u001b[49m\u001b[38;5;241;43m=\u001b[39;49m\u001b[43mfootprint\u001b[49m\u001b[43m,\u001b[49m\u001b[43m \u001b[49m\u001b[38;5;241;43m*\u001b[39;49m\u001b[43margs\u001b[49m\u001b[43m,\u001b[49m\u001b[43m \u001b[49m\u001b[38;5;241;43m*\u001b[39;49m\u001b[38;5;241;43m*\u001b[39;49m\u001b[43mkwargs\u001b[49m\u001b[43m)\u001b[49m\n",
      "File \u001b[1;32mc:\\Users\\hamad.DESKTOP-PLVLOIL\\AppData\\Local\\Programs\\Python\\Python312\\Lib\\site-packages\\skimage\\morphology\\binary.py:144\u001b[0m, in \u001b[0;36mbinary_dilation\u001b[1;34m(image, footprint, out)\u001b[0m\n\u001b[0;32m    141\u001b[0m \u001b[38;5;28;01mif\u001b[39;00m _footprint_is_sequence(footprint):\n\u001b[0;32m    142\u001b[0m     \u001b[38;5;28;01mreturn\u001b[39;00m _iterate_binary_func(ndi\u001b[38;5;241m.\u001b[39mbinary_dilation, image, footprint, out)\n\u001b[1;32m--> 144\u001b[0m \u001b[43mndi\u001b[49m\u001b[38;5;241;43m.\u001b[39;49m\u001b[43mbinary_dilation\u001b[49m\u001b[43m(\u001b[49m\u001b[43mimage\u001b[49m\u001b[43m,\u001b[49m\u001b[43m \u001b[49m\u001b[43mstructure\u001b[49m\u001b[38;5;241;43m=\u001b[39;49m\u001b[43mfootprint\u001b[49m\u001b[43m,\u001b[49m\u001b[43m \u001b[49m\u001b[43moutput\u001b[49m\u001b[38;5;241;43m=\u001b[39;49m\u001b[43mout\u001b[49m\u001b[43m)\u001b[49m\n\u001b[0;32m    145\u001b[0m \u001b[38;5;28;01mreturn\u001b[39;00m out\n",
      "File \u001b[1;32mc:\\Users\\hamad.DESKTOP-PLVLOIL\\AppData\\Local\\Programs\\Python\\Python312\\Lib\\site-packages\\scipy\\ndimage\\_morphology.py:520\u001b[0m, in \u001b[0;36mbinary_dilation\u001b[1;34m(input, structure, iterations, mask, output, border_value, origin, brute_force)\u001b[0m\n\u001b[0;32m    517\u001b[0m     \u001b[38;5;28;01mif\u001b[39;00m \u001b[38;5;129;01mnot\u001b[39;00m structure\u001b[38;5;241m.\u001b[39mshape[ii] \u001b[38;5;241m&\u001b[39m \u001b[38;5;241m1\u001b[39m:\n\u001b[0;32m    518\u001b[0m         origin[ii] \u001b[38;5;241m-\u001b[39m\u001b[38;5;241m=\u001b[39m \u001b[38;5;241m1\u001b[39m\n\u001b[1;32m--> 520\u001b[0m \u001b[38;5;28;01mreturn\u001b[39;00m \u001b[43m_binary_erosion\u001b[49m\u001b[43m(\u001b[49m\u001b[38;5;28;43minput\u001b[39;49m\u001b[43m,\u001b[49m\u001b[43m \u001b[49m\u001b[43mstructure\u001b[49m\u001b[43m,\u001b[49m\u001b[43m \u001b[49m\u001b[43miterations\u001b[49m\u001b[43m,\u001b[49m\u001b[43m \u001b[49m\u001b[43mmask\u001b[49m\u001b[43m,\u001b[49m\n\u001b[0;32m    521\u001b[0m \u001b[43m                       \u001b[49m\u001b[43moutput\u001b[49m\u001b[43m,\u001b[49m\u001b[43m \u001b[49m\u001b[43mborder_value\u001b[49m\u001b[43m,\u001b[49m\u001b[43m \u001b[49m\u001b[43morigin\u001b[49m\u001b[43m,\u001b[49m\u001b[43m \u001b[49m\u001b[38;5;241;43m1\u001b[39;49m\u001b[43m,\u001b[49m\u001b[43m \u001b[49m\u001b[43mbrute_force\u001b[49m\u001b[43m)\u001b[49m\n",
      "File \u001b[1;32mc:\\Users\\hamad.DESKTOP-PLVLOIL\\AppData\\Local\\Programs\\Python\\Python312\\Lib\\site-packages\\scipy\\ndimage\\_morphology.py:254\u001b[0m, in \u001b[0;36m_binary_erosion\u001b[1;34m(input, structure, iterations, mask, output, border_value, origin, invert, brute_force)\u001b[0m\n\u001b[0;32m    252\u001b[0m     output \u001b[38;5;241m=\u001b[39m _ni_support\u001b[38;5;241m.\u001b[39m_get_output(output\u001b[38;5;241m.\u001b[39mdtype, \u001b[38;5;28minput\u001b[39m)\n\u001b[0;32m    253\u001b[0m \u001b[38;5;28;01mif\u001b[39;00m iterations \u001b[38;5;241m==\u001b[39m \u001b[38;5;241m1\u001b[39m:\n\u001b[1;32m--> 254\u001b[0m     \u001b[43m_nd_image\u001b[49m\u001b[38;5;241;43m.\u001b[39;49m\u001b[43mbinary_erosion\u001b[49m\u001b[43m(\u001b[49m\u001b[38;5;28;43minput\u001b[39;49m\u001b[43m,\u001b[49m\u001b[43m \u001b[49m\u001b[43mstructure\u001b[49m\u001b[43m,\u001b[49m\u001b[43m \u001b[49m\u001b[43mmask\u001b[49m\u001b[43m,\u001b[49m\u001b[43m \u001b[49m\u001b[43moutput\u001b[49m\u001b[43m,\u001b[49m\n\u001b[0;32m    255\u001b[0m \u001b[43m                             \u001b[49m\u001b[43mborder_value\u001b[49m\u001b[43m,\u001b[49m\u001b[43m \u001b[49m\u001b[43morigin\u001b[49m\u001b[43m,\u001b[49m\u001b[43m \u001b[49m\u001b[43minvert\u001b[49m\u001b[43m,\u001b[49m\u001b[43m \u001b[49m\u001b[43mcit\u001b[49m\u001b[43m,\u001b[49m\u001b[43m \u001b[49m\u001b[38;5;241;43m0\u001b[39;49m\u001b[43m)\u001b[49m\n\u001b[0;32m    256\u001b[0m \u001b[38;5;28;01melif\u001b[39;00m cit \u001b[38;5;129;01mand\u001b[39;00m \u001b[38;5;129;01mnot\u001b[39;00m brute_force:\n\u001b[0;32m    257\u001b[0m     changed, coordinate_list \u001b[38;5;241m=\u001b[39m _nd_image\u001b[38;5;241m.\u001b[39mbinary_erosion(\n\u001b[0;32m    258\u001b[0m         \u001b[38;5;28minput\u001b[39m, structure, mask, output,\n\u001b[0;32m    259\u001b[0m         border_value, origin, invert, cit, \u001b[38;5;241m1\u001b[39m)\n",
      "\u001b[1;31mKeyboardInterrupt\u001b[0m: "
     ]
    }
   ],
   "source": [
    "from PIL import Image\n",
    "import glob\n",
    "import os\n",
    "from skimage.morphology import binary_closing, binary_opening, erosion\n",
    "import numpy as np\n",
    "from scipy import ndimage\n",
    "\n",
    "# Function to remove background\n",
    "def remove_background(file, save_path):\n",
    "    selem = np.zeros((25, 25))\n",
    "\n",
    "    ci, cj = 12, 12\n",
    "    cr = 13\n",
    "\n",
    "    # Create index arrays to z\n",
    "    I, J = np.meshgrid(np.arange(selem.shape[0]), np.arange(selem.shape[1]))\n",
    "\n",
    "    # calculate distance of all points to centre\n",
    "    dist = np.sqrt((I - ci) ** 2 + (J - cj) ** 2)\n",
    "\n",
    "    # Assign value of 1 to those points where dist<cr:\n",
    "    selem[np.where(dist <= cr)] = 1\n",
    "\n",
    "    bg_frac = 0\n",
    "    thres = 220\n",
    "\n",
    "    img = Image.open(file)\n",
    "    im_arr = np.array(img)\n",
    "\n",
    "    R = im_arr[:, :, 0]\n",
    "    G = im_arr[:, :, 1]\n",
    "    B = im_arr[:, :, 2]\n",
    "\n",
    "    while bg_frac < 0.6:\n",
    "        bg_mask = ((R > thres) | (B > thres))\n",
    "        bg_frac = bg_mask.sum() / len(bg_mask.flatten())\n",
    "        thres -= 5\n",
    "\n",
    "    bg_mask = binary_closing(erosion(binary_opening(bg_mask, selem), np.ones((3, 3))), np.ones((5, 5)))\n",
    "\n",
    "    # Get biggest blob\n",
    "    label, num_label = ndimage.label(~bg_mask)\n",
    "    size = np.bincount(label.ravel())\n",
    "    biggest_label = size[1:].argmax() + 1\n",
    "    bg_mask = label == biggest_label\n",
    "\n",
    "    im_arr[~bg_mask, 0] = 255\n",
    "    im_arr[~bg_mask, 1] = 255\n",
    "    im_arr[~bg_mask, 2] = 255\n",
    "\n",
    "    img = Image.fromarray(im_arr)\n",
    "    img.save(save_path)\n",
    "\n",
    "# Define input and output paths\n",
    "input_path = 'D://vgg19/project/archive/LabelledRice/Resized/*/*'\n",
    "output_path = 'D://vgg19/project/archive/LabelledRice/backgroundRemoved/'\n",
    "\n",
    "# Create the output directory if it doesn't exist\n",
    "os.makedirs(output_path, exist_ok=True)\n",
    "\n",
    "# Get the list of files\n",
    "files = glob.glob(input_path)\n",
    "\n",
    "# Loop over files and remove background\n",
    "for file in files:\n",
    "    file_name = os.path.basename(file)\n",
    "    save_path = os.path.join(output_path, file_name)\n",
    "    remove_background(file, save_path)\n"
   ]
  }
 ],
 "metadata": {
  "kernelspec": {
   "display_name": "Python 3",
   "language": "python",
   "name": "python3"
  },
  "language_info": {
   "codemirror_mode": {
    "name": "ipython",
    "version": 3
   },
   "file_extension": ".py",
   "mimetype": "text/x-python",
   "name": "python",
   "nbconvert_exporter": "python",
   "pygments_lexer": "ipython3",
   "version": "3.12.2"
  }
 },
 "nbformat": 4,
 "nbformat_minor": 2
}
